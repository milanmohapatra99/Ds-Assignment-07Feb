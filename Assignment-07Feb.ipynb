{
 "cells": [
  {
   "cell_type": "markdown",
   "id": "701681a1-24a4-4a0f-9385-f11733fe3957",
   "metadata": {},
   "source": [
    "Que-1 : You are writing a code for a company.The requirement of the company is that you create a python function that will check wheather the password entered by the user is correct or not. The function should take the password as input and return the string :Valid Password\" if the entered password follws the below-given password guidelines else it should return \"Invalid Password\".\n",
    "\n",
    "Note:\n",
    "1. The password should contain at least two uppercase letters and at least two lowercase letters.\n",
    "\n",
    "2: The password should contain at least a number and three special characters.\n",
    "\n",
    "3. The length of the password should be 10 characters long."
   ]
  },
  {
   "cell_type": "code",
   "execution_count": 2,
   "id": "732e1876-0d96-4b1d-9a10-5ad5b769e1d5",
   "metadata": {},
   "outputs": [
    {
     "name": "stdin",
     "output_type": "stream",
     "text": [
      "Enter Password :  @Thisopjhtdy67fxcgfj\n"
     ]
    },
    {
     "name": "stdout",
     "output_type": "stream",
     "text": [
      "Result Invalid Password\n"
     ]
    }
   ],
   "source": [
    "from string import punctuation\n",
    "def checkingpass(password):\n",
    "    uppercase = 0\n",
    "    lowercase = 0\n",
    "    special_char = 0\n",
    "    number = 0\n",
    "    valid = False\n",
    "    if len(password) >= 10:\n",
    "        for p in password:\n",
    "            if p.isupper():\n",
    "                uppercase += 1\n",
    "            if p.islower():\n",
    "                lowercase += 1\n",
    "            if p in punctuation :\n",
    "                special_char += 1\n",
    "            if p.isnumeric():\n",
    "                number += 1\n",
    "        if uppercase >= 2 and lowercase >= 2 and special_char >= 3 and number >= 1:\n",
    "            valid = True\n",
    "            \n",
    "        else:\n",
    "            valid = False\n",
    "        if valid:\n",
    "            return \"Valid Password\"\n",
    "        else :\n",
    "            return \"Invalid Password\"\n",
    "print(\"Result\",checkingpass(input(\"Enter Password : \")))"
   ]
  },
  {
   "cell_type": "markdown",
   "id": "79b51652-29a9-44f9-abaf-eb3561d86f2e",
   "metadata": {},
   "source": [
    "Que.2- Solve the below-given questions using at least one of the following:\n",
    "1. Lambda function\n",
    "2. Filter function\n",
    "3. Map function\n",
    "4. List Comprehension\n",
    "Check if the string starts with a particular letter.\n",
    "Check if the string is numeric.\n",
    "Sort a list of tuples having fruit names and their quantity. [(\"mango\",99),(\"orange\",80), (\"grapes\", 1000)]\n",
    "Find the squares of numbers from 1 to 10\n",
    "Find the cube root of numbers from 1 to 10\n",
    "Check if a given number is even\n",
    "Filter odd numbers from the given list.\n",
    "[1,2,3,4,5,6,7,8,9,10]\n",
    "Sort a list of integers into positive and negative integers lists.\n",
    "[1,2,3,4,5,6,-1,-2,-3,-4,-5,0]"
   ]
  },
  {
   "cell_type": "code",
   "execution_count": 4,
   "id": "4abac2b4-3cfa-478f-9d24-12641147deba",
   "metadata": {},
   "outputs": [
    {
     "data": {
      "text/plain": [
       "True"
      ]
     },
     "execution_count": 4,
     "metadata": {},
     "output_type": "execute_result"
    }
   ],
   "source": [
    "# checking if the string starts with a particular letter using lambda function.\n",
    "check_string = lambda string , start_letter : True if string[0] else False\n",
    "check_string (\"Datascience\",\"D\")"
   ]
  },
  {
   "cell_type": "code",
   "execution_count": 2,
   "id": "71504733-d2cc-423c-8d62-bf01cf8ababc",
   "metadata": {},
   "outputs": [
    {
     "data": {
      "text/plain": [
       "True"
      ]
     },
     "execution_count": 2,
     "metadata": {},
     "output_type": "execute_result"
    }
   ],
   "source": [
    "# checking if the string is numeric\n",
    "string_numeric =lambda string :True if string.isdigit() else False\n",
    "string_numeric(\"56478\")"
   ]
  },
  {
   "cell_type": "code",
   "execution_count": 4,
   "id": "65d7eb89-fd76-4467-bffb-a9c9097ec3ef",
   "metadata": {},
   "outputs": [
    {
     "name": "stdout",
     "output_type": "stream",
     "text": [
      "Before Sorting :-  [('mango', 99), ('orange', 80), ('grapes', 1000)]\n",
      "After Sorting :-  [('orange', 80), ('mango', 99), ('grapes', 1000)]\n"
     ]
    }
   ],
   "source": [
    "# sort a list of tuples having fruit names and their quantities\n",
    "fruits = [(\"mango\",99),(\"orange\",80),(\"grapes\",1000)]\n",
    "print(\"Before Sorting :- \",fruits)\n",
    "#using lambda function\n",
    "fruits_sorting = sorted(fruits , key = lambda f : f[1])\n",
    "print(\"After Sorting :- \",fruits_sorting)"
   ]
  },
  {
   "cell_type": "code",
   "execution_count": 5,
   "id": "f4a1131e-45cc-43e2-83ef-f74cdbe673d3",
   "metadata": {},
   "outputs": [
    {
     "name": "stdout",
     "output_type": "stream",
     "text": [
      "Square of number :  [1, 4, 9, 16, 25, 36, 49, 64, 81, 100]\n",
      "Squared number using map function [1, 4, 9, 16, 25, 36, 49, 64, 81, 100]\n"
     ]
    }
   ],
   "source": [
    "# Finding Squares of number from 1 to 10 \n",
    "\n",
    "#using list comprehension\n",
    "\n",
    "number_sqr = [i ** 2 for i in range(1,11)]\n",
    "print(\"Square of number : \",number_sqr)\n",
    "\n",
    "# using map function\n",
    "number_sqr_mapp = list(map(lambda i : i**2 , range(1,11)))\n",
    "print(\"Squared number using map function\",number_sqr_mapp)"
   ]
  },
  {
   "cell_type": "code",
   "execution_count": 7,
   "id": "0ec30d8f-c4cd-4950-be06-3454ae78e5c6",
   "metadata": {},
   "outputs": [
    {
     "name": "stdout",
     "output_type": "stream",
     "text": [
      "Square of number :  [1.0, 1.2599210498948732, 1.4422495703074083, 1.5874010519681994, 1.7099759466766968, 1.8171205928321397, 1.912931182772389, 2.0, 2.080083823051904, 2.154434690031884]\n",
      "Squared number using map function [1.0, 1.2599210498948732, 1.4422495703074083, 1.5874010519681994, 1.7099759466766968, 1.8171205928321397, 1.912931182772389, 2.0, 2.080083823051904, 2.154434690031884]\n"
     ]
    }
   ],
   "source": [
    "# Finding Cube roots of number from 1 to 10 \n",
    "\n",
    "#using list comprehension\n",
    "\n",
    "number_cubee = [i ** (1/3) for i in range(1,11)]\n",
    "print(\"Square of number : \",number_cubee)\n",
    "\n",
    "# using map function\n",
    "number_cubee_mapp = list(map(lambda i : i**(1/3) , range(1,11)))\n",
    "print(\"Squared number using map function\",number_cubee_mapp)"
   ]
  },
  {
   "cell_type": "code",
   "execution_count": 8,
   "id": "3d59c43c-3d87-48cd-a8a3-0291a37d936b",
   "metadata": {},
   "outputs": [
    {
     "name": "stdin",
     "output_type": "stream",
     "text": [
      "Enter number:  5\n"
     ]
    },
    {
     "name": "stdout",
     "output_type": "stream",
     "text": [
      "Number is  False\n"
     ]
    }
   ],
   "source": [
    "# Checking given number is even \n",
    "evennum = lambda num : True if num % 2 == 0 else False\n",
    "print(\"Number is \",evennum(int(input(\"Enter number: \"))))"
   ]
  },
  {
   "cell_type": "code",
   "execution_count": 10,
   "id": "0201b9c2-bc08-495a-9950-ac674725d212",
   "metadata": {},
   "outputs": [
    {
     "name": "stdout",
     "output_type": "stream",
     "text": [
      "Original List : [1, 2, 3, 4, 5, 6, 7, 8, 9, 10]\n",
      "Filtered List : [1, 3, 5, 7, 9]\n"
     ]
    }
   ],
   "source": [
    "#Filter odd numbers from given list\n",
    "l = [1,2,3,4,5,6,7,8,9,10]\n",
    "\n",
    "result = filter(lambda x: x % 2 == 1, l)\n",
    "print('Original List :', l)\n",
    "print('Filtered List :', list(result))\n"
   ]
  },
  {
   "cell_type": "code",
   "execution_count": 9,
   "id": "f3869215-7372-4777-b84e-dba20eae9338",
   "metadata": {},
   "outputs": [
    {
     "name": "stdout",
     "output_type": "stream",
     "text": [
      "positive numbers are:- [1, 2, 3, 4, 5, 6, 7]\n",
      "negative numbers are:- [-8, -5, -3, -2, -4]\n"
     ]
    }
   ],
   "source": [
    "\n",
    "# sort a list of integers into positive and negative integers\n",
    "no = [1,2,3,4,5,6,-1,-2,-3,-4,-5,0]\n",
    "\n",
    "#using list comprehesion\n",
    "posnum = [i for i in no if i > 0]\n",
    "negnum = [i for i in no if i < 0]\n",
    "print(\"positive numbers are:-\", posnum)\n",
    "print(\"negative numbers are:-\", negnum)"
   ]
  },
  {
   "cell_type": "code",
   "execution_count": null,
   "id": "60af730c-e5d1-4303-b079-192e98ec562e",
   "metadata": {},
   "outputs": [],
   "source": []
  }
 ],
 "metadata": {
  "kernelspec": {
   "display_name": "Python 3 (ipykernel)",
   "language": "python",
   "name": "python3"
  },
  "language_info": {
   "codemirror_mode": {
    "name": "ipython",
    "version": 3
   },
   "file_extension": ".py",
   "mimetype": "text/x-python",
   "name": "python",
   "nbconvert_exporter": "python",
   "pygments_lexer": "ipython3",
   "version": "3.10.6"
  }
 },
 "nbformat": 4,
 "nbformat_minor": 5
}
